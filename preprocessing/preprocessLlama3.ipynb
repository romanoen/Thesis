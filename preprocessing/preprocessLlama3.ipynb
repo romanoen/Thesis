{
 "cells": [
  {
   "cell_type": "code",
   "execution_count": 90,
   "metadata": {},
   "outputs": [],
   "source": [
    "import pandas as pd\n",
    "import numpy as np\n",
    "import emoji\n",
    "import re\n",
    "\n",
    "llama3csv = pd.read_csv(\"../LLMs/Llama3/responsesLlama.csv\")"
   ]
  },
  {
   "cell_type": "code",
   "execution_count": 91,
   "metadata": {},
   "outputs": [],
   "source": [
    "#drop every row in llama3csv in which the text in row \"Generated Response\" starts with I cannot or I can't. \n",
    "\n",
    "llama3csv = llama3csv[~llama3csv[\"Generated Response\"].str.startswith(\"I cannot\")]\n",
    "llama3csv = llama3csv[~llama3csv[\"Generated Response\"].str.startswith(\"I can't\")]\n"
   ]
  },
  {
   "cell_type": "code",
   "execution_count": 92,
   "metadata": {},
   "outputs": [],
   "source": [
    "# function to cut out the part before the colon if the output starts with \"Here\"\n",
    "def cutBeforeColon(text):\n",
    "    if isinstance(text, str) and text.startswith(\"Here\"):\n",
    "        parts = text.split(':', 1)\n",
    "        if len(parts) > 1:\n",
    "            return parts[1].strip()\n",
    "    return text\n"
   ]
  },
  {
   "cell_type": "code",
   "execution_count": 93,
   "metadata": {},
   "outputs": [],
   "source": [
    "# apply the function to the \"Generated Response\" column\n",
    "data = llama3csv['Generated Response'].apply(cutBeforeColon)\n",
    "llama3csv['Generated Response'] = data\n"
   ]
  },
  {
   "cell_type": "code",
   "execution_count": 94,
   "metadata": {},
   "outputs": [],
   "source": [
    "#convert emojis to text\n",
    "import emoji\n",
    "\n",
    "def replace_emojis_with_text(text):\n",
    "        # Entfernen von Variation Selectors (VS15 und VS16) und Hautfarbmodifikatoren (1F3FB-1F3FF)\n",
    "    text = re.sub(r'[\\U0001F3FB-\\U0001F3FF\\uFE0F]', '', text)\n",
    "    # Verwenden von emoji.demojize zur Konvertierung in Text\n",
    "    text = emoji.demojize(text)\n",
    "    text = re.sub(r':', ' ', text)\n",
    "    text = re.sub(r'_', '', text)\n",
    "    return text\n",
    "\n",
    "llama3csv[\"Generated Response\"] = llama3csv[\"Generated Response\"].apply(replace_emojis_with_text)\n",
    "llama3csv[\"Generated Response\"] = llama3csv[\"Generated Response\"].apply(replace_emojis_with_text)\n"
   ]
  },
  {
   "cell_type": "code",
   "execution_count": 95,
   "metadata": {},
   "outputs": [],
   "source": [
    "#remove all the quotes from the columns\n",
    "llama3csv[\"Generated Response\"] = llama3csv[\"Generated Response\"].str.replace('\"', \"\").replace(\"'\", \"\")\n",
    "llama3csv[\"Original Tweet\"] = llama3csv[\"Original Tweet\"].str.replace('\"', \"\").replace(\"'\", \"\")"
   ]
  },
  {
   "cell_type": "code",
   "execution_count": 96,
   "metadata": {},
   "outputs": [],
   "source": [
    "#remove urls from both columns\n",
    "\n",
    "llama3csv[\"Generated Response\"] = llama3csv[\"Generated Response\"].str.replace(r'http\\S+', '', regex=True).replace(r'www\\S+', '', regex=True)\n",
    "llama3csv[\"Original Tweet\"] = llama3csv[\"Original Tweet\"].str.replace(r'http\\S+', '', regex=True).replace(r'www\\S+', '', regex=True)"
   ]
  },
  {
   "cell_type": "code",
   "execution_count": 97,
   "metadata": {},
   "outputs": [],
   "source": [
    "#remove every tagging of a user\n",
    "llama3csv[\"Generated Response\"] = llama3csv[\"Generated Response\"].str.replace(r'@\\S+', '', regex=True)\n",
    "llama3csv[\"Original Tweet\"] = llama3csv[\"Original Tweet\"].str.replace(r'@\\S+', '', regex=True)"
   ]
  },
  {
   "cell_type": "code",
   "execution_count": 98,
   "metadata": {},
   "outputs": [],
   "source": [
    "#remove every newline character\n",
    "llama3csv[\"Generated Response\"] = llama3csv[\"Generated Response\"].str.replace(r'\\n', ' ', regex=True)\n",
    "llama3csv[\"Original Tweet\"] = llama3csv[\"Original Tweet\"].str.replace(r'\\n', ' ', regex=True)"
   ]
  },
  {
   "cell_type": "code",
   "execution_count": 99,
   "metadata": {},
   "outputs": [],
   "source": [
    "#remove every tab character\n",
    "llama3csv[\"Generated Response\"] = llama3csv[\"Generated Response\"].str.replace(r'\\t', ' ', regex=True)\n",
    "llama3csv[\"Original Tweet\"] = llama3csv[\"Original Tweet\"].str.replace(r'\\t', ' ', regex=True)"
   ]
  },
  {
   "cell_type": "code",
   "execution_count": 100,
   "metadata": {},
   "outputs": [],
   "source": [
    "#remove every special character\n",
    "llama3csv[\"Generated Response\"] = llama3csv[\"Generated Response\"].str.replace(r'[^\\w\\s]', '', regex=True)\n",
    "llama3csv[\"Original Tweet\"] = llama3csv[\"Original Tweet\"].str.replace(r'[^\\w\\s]', '', regex=True)"
   ]
  },
  {
   "cell_type": "code",
   "execution_count": 102,
   "metadata": {},
   "outputs": [],
   "source": [
    "#remove every number\n",
    "llama3csv[\"Generated Response\"] = llama3csv[\"Generated Response\"].str.replace(r'\\d+', '', regex=True)\n",
    "llama3csv[\"Original Tweet\"] = llama3csv[\"Original Tweet\"].str.replace(r'\\d+', '', regex=True)"
   ]
  },
  {
   "cell_type": "code",
   "execution_count": 103,
   "metadata": {},
   "outputs": [],
   "source": [
    "#all to lower case\n",
    "llama3csv[\"Generated Response\"] = llama3csv[\"Generated Response\"].str.lower()\n",
    "llama3csv[\"Original Tweet\"] = llama3csv[\"Original Tweet\"].str.lower()"
   ]
  },
  {
   "cell_type": "code",
   "execution_count": 105,
   "metadata": {},
   "outputs": [],
   "source": [
    "#remove every double whitespace\n",
    "llama3csv[\"Generated Response\"] = llama3csv[\"Generated Response\"].str.replace(r'\\s+', ' ', regex=True)\n",
    "llama3csv[\"Original Tweet\"] = llama3csv[\"Original Tweet\"].str.replace(r'\\s+', ' ', regex=True)"
   ]
  },
  {
   "cell_type": "code",
   "execution_count": 106,
   "metadata": {},
   "outputs": [
    {
     "name": "stderr",
     "output_type": "stream",
     "text": [
      "[nltk_data] Downloading package stopwords to\n",
      "[nltk_data]     /Users/romanoelfken/nltk_data...\n",
      "[nltk_data]   Package stopwords is already up-to-date!\n"
     ]
    }
   ],
   "source": [
    "#remove stopwords\n",
    "from nltk.corpus import stopwords\n",
    "import nltk\n",
    "nltk.download('stopwords')\n",
    "stop = stopwords.words('english')\n",
    "\n",
    "llama3csv[\"Generated Response\"] = llama3csv[\"Generated Response\"].apply(lambda x: ' '.join([word for word in x.split() if word not in (stop)]))\n",
    "llama3csv[\"Original Tweet\"] = llama3csv[\"Original Tweet\"].apply(lambda x: ' '.join([word for word in x.split() if word not in (stop)]))"
   ]
  },
  {
   "cell_type": "code",
   "execution_count": 110,
   "metadata": {},
   "outputs": [
    {
     "name": "stderr",
     "output_type": "stream",
     "text": [
      "[nltk_data] Downloading package wordnet to\n",
      "[nltk_data]     /Users/romanoelfken/nltk_data...\n",
      "[nltk_data]   Package wordnet is already up-to-date!\n"
     ]
    }
   ],
   "source": [
    "#lemmatize\n",
    "from nltk.stem import WordNetLemmatizer\n",
    "nltk.download('wordnet')\n",
    "lemmatizer = WordNetLemmatizer()\n",
    "\n",
    "llama3csv[\"Generated Response\"] = llama3csv[\"Generated Response\"].apply(lambda x: ' '.join([lemmatizer.lemmatize(word) for word in x.split()]))\n",
    "llama3csv[\"Original Tweet\"] = llama3csv[\"Original Tweet\"].apply(lambda x: ' '.join([lemmatizer.lemmatize(word) for word in x.split()]))"
   ]
  },
  {
   "cell_type": "code",
   "execution_count": 111,
   "metadata": {},
   "outputs": [],
   "source": [
    "llama3csv.to_csv(\"llama3csv.csv\")"
   ]
  },
  {
   "cell_type": "code",
   "execution_count": 121,
   "metadata": {},
   "outputs": [
    {
     "name": "stdout",
     "output_type": "stream",
     "text": [
      "he say that he have be travel to the moon and back while get all the bitch\n"
     ]
    },
    {
     "name": "stderr",
     "output_type": "stream",
     "text": [
      "[nltk_data] Downloading package wordnet to\n",
      "[nltk_data]     /Users/romanoelfken/nltk_data...\n",
      "[nltk_data]   Package wordnet is already up-to-date!\n",
      "[nltk_data] Downloading package averaged_perceptron_tagger to\n",
      "[nltk_data]     /Users/romanoelfken/nltk_data...\n",
      "[nltk_data]   Package averaged_perceptron_tagger is already up-to-\n",
      "[nltk_data]       date!\n"
     ]
    }
   ],
   "source": [
    "import nltk\n",
    "from nltk.stem import WordNetLemmatizer\n",
    "from nltk.tokenize import word_tokenize\n",
    "from nltk.corpus import wordnet\n",
    "from nltk.tag import pos_tag\n",
    "\n",
    "# Download necessary NLTK data files\n",
    "nltk.download('wordnet')\n",
    "nltk.download('averaged_perceptron_tagger')\n",
    "\n",
    "lemmatizer = WordNetLemmatizer()\n",
    "\n",
    "def get_wordnet_pos(tag):\n",
    "    if tag.startswith('J'):\n",
    "        return wordnet.ADJ\n",
    "    elif tag.startswith('V'):\n",
    "        return wordnet.VERB\n",
    "    elif tag.startswith('N'):\n",
    "        return wordnet.NOUN\n",
    "    elif tag.startswith('R'):\n",
    "        return wordnet.ADV\n",
    "    else:\n",
    "        return wordnet.NOUN\n",
    "\n",
    "def lemmatize_text(text):\n",
    "    tokens = word_tokenize(text)\n",
    "    tagged_tokens = pos_tag(tokens)\n",
    "    lemmatized_tokens = [lemmatizer.lemmatize(token, get_wordnet_pos(tag)) for token, tag in tagged_tokens]\n",
    "    return ' '.join(lemmatized_tokens)\n",
    "\n",
    "text = \"he said that he has been travelling to the moon and back while getting all the bitches\"\n",
    "lemmatized_text = lemmatize_text(text)\n",
    "print(lemmatized_text)\n"
   ]
  }
 ],
 "metadata": {
  "kernelspec": {
   "display_name": "base",
   "language": "python",
   "name": "python3"
  },
  "language_info": {
   "codemirror_mode": {
    "name": "ipython",
    "version": 3
   },
   "file_extension": ".py",
   "mimetype": "text/x-python",
   "name": "python",
   "nbconvert_exporter": "python",
   "pygments_lexer": "ipython3",
   "version": "3.11.4"
  }
 },
 "nbformat": 4,
 "nbformat_minor": 2
}
