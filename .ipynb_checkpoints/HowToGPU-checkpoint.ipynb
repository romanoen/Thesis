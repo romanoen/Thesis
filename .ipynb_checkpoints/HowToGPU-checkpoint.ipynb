{
 "cells": [
  {
   "cell_type": "markdown",
   "id": "1ff93fa3-2c18-4d4c-8d74-fc4dbcc218be",
   "metadata": {},
   "source": [
    "## Wie man die GPU festlegt"
   ]
  },
  {
   "cell_type": "code",
   "execution_count": 1,
   "id": "f2e2a4c6-e446-4b07-bc48-c313730a37f5",
   "metadata": {
    "tags": []
   },
   "outputs": [
    {
     "name": "stdout",
     "output_type": "stream",
     "text": [
      "setGPU: Setting GPU to: 0\n"
     ]
    }
   ],
   "source": [
    "# Sucht eine freie GPU heraus\n",
    "import setGPU\n",
    "# Alternativ sollte die Nummer 2 immer für dich freigehalten sein, dann nutze einfach statt setGPU \n",
    "# %env CUDA_VISIBLE_DEVICES=2"
   ]
  },
  {
   "cell_type": "markdown",
   "id": "31dea615-05e5-4150-b8dd-a509b43cacab",
   "metadata": {},
   "source": [
    "## Wie man die Datensätze einliest: "
   ]
  },
  {
   "cell_type": "code",
   "execution_count": 2,
   "id": "6bc7346f-beaf-41e4-9e97-fa4cc9d03306",
   "metadata": {},
   "outputs": [
    {
     "data": {
      "text/html": [
       "<div>\n",
       "<style scoped>\n",
       "    .dataframe tbody tr th:only-of-type {\n",
       "        vertical-align: middle;\n",
       "    }\n",
       "\n",
       "    .dataframe tbody tr th {\n",
       "        vertical-align: top;\n",
       "    }\n",
       "\n",
       "    .dataframe thead th {\n",
       "        text-align: right;\n",
       "    }\n",
       "</style>\n",
       "<table border=\"1\" class=\"dataframe\">\n",
       "  <thead>\n",
       "    <tr style=\"text-align: right;\">\n",
       "      <th></th>\n",
       "      <th>timestamp</th>\n",
       "      <th>tweets</th>\n",
       "      <th>users</th>\n",
       "      <th>artificial</th>\n",
       "    </tr>\n",
       "  </thead>\n",
       "  <tbody>\n",
       "    <tr>\n",
       "      <th>0</th>\n",
       "      <td>2021-10-31 16:00:01</td>\n",
       "      <td>I do hope #COP26 from/inGlasgow, is a great on...</td>\n",
       "      <td>Fiona Brown</td>\n",
       "      <td>0</td>\n",
       "    </tr>\n",
       "    <tr>\n",
       "      <th>1</th>\n",
       "      <td>2021-10-31 16:00:02</td>\n",
       "      <td>#cdnpoli #cdnmedia it would be fantastic if a ...</td>\n",
       "      <td>Advocacy Warrior</td>\n",
       "      <td>0</td>\n",
       "    </tr>\n",
       "    <tr>\n",
       "      <th>2</th>\n",
       "      <td>2021-10-31 16:00:05</td>\n",
       "      <td>and we said it is a blessing in disguise think...</td>\n",
       "      <td>kimfnpretty</td>\n",
       "      <td>0</td>\n",
       "    </tr>\n",
       "    <tr>\n",
       "      <th>3</th>\n",
       "      <td>2021-10-31 16:00:07</td>\n",
       "      <td>Scum. Yep, definitely scum. Greedy, money-grub...</td>\n",
       "      <td>Chris Gough</td>\n",
       "      <td>0</td>\n",
       "    </tr>\n",
       "    <tr>\n",
       "      <th>4</th>\n",
       "      <td>2021-10-31 16:00:12</td>\n",
       "      <td>@RichardDunda @CNBC While world leaders fly pr...</td>\n",
       "      <td>scott inker</td>\n",
       "      <td>0</td>\n",
       "    </tr>\n",
       "    <tr>\n",
       "      <th>5</th>\n",
       "      <td>2021-10-31 16:00:13</td>\n",
       "      <td>\"Climate change is a risk to national security...</td>\n",
       "      <td>Ross Thompson</td>\n",
       "      <td>0</td>\n",
       "    </tr>\n",
       "    <tr>\n",
       "      <th>6</th>\n",
       "      <td>2021-10-31 16:00:14</td>\n",
       "      <td>@avi_kaushik4 @BCCI We are awaiting instructio...</td>\n",
       "      <td>cherioc</td>\n",
       "      <td>0</td>\n",
       "    </tr>\n",
       "    <tr>\n",
       "      <th>7</th>\n",
       "      <td>2021-10-31 16:00:15</td>\n",
       "      <td>No one wants to face disaster and destruction....</td>\n",
       "      <td>Аleksandr</td>\n",
       "      <td>0</td>\n",
       "    </tr>\n",
       "    <tr>\n",
       "      <th>8</th>\n",
       "      <td>2021-10-31 16:00:18</td>\n",
       "      <td>@Quicktake Rest of world leaders brought their...</td>\n",
       "      <td>Human Being</td>\n",
       "      <td>0</td>\n",
       "    </tr>\n",
       "    <tr>\n",
       "      <th>9</th>\n",
       "      <td>2021-10-31 16:00:21</td>\n",
       "      <td>Again the obvious need to modernise + restruct...</td>\n",
       "      <td>Ella-Rose Lamont</td>\n",
       "      <td>0</td>\n",
       "    </tr>\n",
       "  </tbody>\n",
       "</table>\n",
       "</div>"
      ],
      "text/plain": [
       "            timestamp                                             tweets  \\\n",
       "0 2021-10-31 16:00:01  I do hope #COP26 from/inGlasgow, is a great on...   \n",
       "1 2021-10-31 16:00:02  #cdnpoli #cdnmedia it would be fantastic if a ...   \n",
       "2 2021-10-31 16:00:05  and we said it is a blessing in disguise think...   \n",
       "3 2021-10-31 16:00:07  Scum. Yep, definitely scum. Greedy, money-grub...   \n",
       "4 2021-10-31 16:00:12  @RichardDunda @CNBC While world leaders fly pr...   \n",
       "5 2021-10-31 16:00:13  \"Climate change is a risk to national security...   \n",
       "6 2021-10-31 16:00:14  @avi_kaushik4 @BCCI We are awaiting instructio...   \n",
       "7 2021-10-31 16:00:15  No one wants to face disaster and destruction....   \n",
       "8 2021-10-31 16:00:18  @Quicktake Rest of world leaders brought their...   \n",
       "9 2021-10-31 16:00:21  Again the obvious need to modernise + restruct...   \n",
       "\n",
       "              users  artificial  \n",
       "0       Fiona Brown           0  \n",
       "1  Advocacy Warrior           0  \n",
       "2       kimfnpretty           0  \n",
       "3       Chris Gough           0  \n",
       "4       scott inker           0  \n",
       "5     Ross Thompson           0  \n",
       "6           cherioc           0  \n",
       "7         Аleksandr           0  \n",
       "8       Human Being           0  \n",
       "9  Ella-Rose Lamont           0  "
      ]
     },
     "execution_count": 2,
     "metadata": {},
     "output_type": "execute_result"
    }
   ],
   "source": [
    "import pandas as pd\n",
    "original = pd.read_json(\"datasets/original.json\", lines=True)\n",
    "original.head(10)"
   ]
  },
  {
   "cell_type": "code",
   "execution_count": null,
   "id": "d73389c5-993d-4484-96e0-00217129adfd",
   "metadata": {},
   "outputs": [],
   "source": []
  }
 ],
 "metadata": {
  "kernelspec": {
   "display_name": "Python 3 (ipykernel)",
   "language": "python",
   "name": "python3"
  },
  "language_info": {
   "codemirror_mode": {
    "name": "ipython",
    "version": 3
   },
   "file_extension": ".py",
   "mimetype": "text/x-python",
   "name": "python",
   "nbconvert_exporter": "python",
   "pygments_lexer": "ipython3",
   "version": "3.9.7"
  }
 },
 "nbformat": 4,
 "nbformat_minor": 5
}
