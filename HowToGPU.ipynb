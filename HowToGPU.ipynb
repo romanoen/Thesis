{
 "cells": [
  {
   "cell_type": "markdown",
   "id": "1ff93fa3-2c18-4d4c-8d74-fc4dbcc218be",
   "metadata": {},
   "source": [
    "## Wie man die GPU festlegt"
   ]
  },
  {
   "cell_type": "code",
   "execution_count": 2,
   "id": "f2e2a4c6-e446-4b07-bc48-c313730a37f5",
   "metadata": {
    "tags": []
   },
   "outputs": [
    {
     "name": "stdout",
     "output_type": "stream",
     "text": [
      "env: CUDA_VISIBLE_DEVICES=2\n",
      "True\n"
     ]
    }
   ],
   "source": [
    "# Sucht eine freie GPU heraus\n",
    "import setGPU\n",
    "# Alternativ sollte die Nummer 2 immer für dich freigehalten sein, dann nutze einfach statt setGPU \n",
    "%env CUDA_VISIBLE_DEVICES=2\n",
    "\n",
    "import torch\n",
    "print(torch.cuda.is_available())"
   ]
  },
  {
   "cell_type": "code",
   "execution_count": 2,
   "id": "7af25d8b-f779-4ee6-927b-e6446156f121",
   "metadata": {
    "tags": []
   },
   "outputs": [
    {
     "name": "stdout",
     "output_type": "stream",
     "text": [
      "Available GPUs:  1\n",
      "Currently active GPU: 0\n",
      "GPU Name: NVIDIA RTX A6000\n"
     ]
    }
   ],
   "source": [
    "import torch\n",
    "print(\"Available GPUs: \", torch.cuda.device_count())\n",
    "print(\"Currently active GPU:\", torch.cuda.current_device())\n",
    "print(\"GPU Name:\", torch.cuda.get_device_name(torch.cuda.current_device()))"
   ]
  },
  {
   "cell_type": "code",
   "execution_count": 3,
   "id": "3fa6a853-0f32-47a9-8df5-0a293722e26c",
   "metadata": {
    "tags": []
   },
   "outputs": [
    {
     "name": "stdout",
     "output_type": "stream",
     "text": [
      "GPU succesful\n"
     ]
    }
   ],
   "source": [
    "tensor = torch.rand(1000, 1000, device=\"cuda\")\n",
    "result = tensor * tensor\n",
    "print(\"GPU succesful\")"
   ]
  },
  {
   "cell_type": "markdown",
   "id": "31dea615-05e5-4150-b8dd-a509b43cacab",
   "metadata": {},
   "source": [
    "## Wie man die Datensätze einliest: "
   ]
  },
  {
   "cell_type": "code",
   "execution_count": 4,
   "id": "6bc7346f-beaf-41e4-9e97-fa4cc9d03306",
   "metadata": {},
   "outputs": [
    {
     "data": {
      "text/plain": [
       "20000"
      ]
     },
     "execution_count": 4,
     "metadata": {},
     "output_type": "execute_result"
    }
   ],
   "source": [
    "import pandas as pd\n",
    "gpt35 = pd.read_json(\"datasets/gpt35.json\", lines=True)\n",
    "gpt35.head(10)\n",
    "len(gpt35[\"timestamp\"])"
   ]
  },
  {
   "cell_type": "code",
   "execution_count": 6,
   "id": "d73389c5-993d-4484-96e0-00217129adfd",
   "metadata": {},
   "outputs": [
    {
     "name": "stdout",
     "output_type": "stream",
     "text": [
      "0    I do hope #COP26 from/inGlasgow, is a great on...\n",
      "Name: tweets, dtype: object\n"
     ]
    }
   ],
   "source": [
    "neo = pd.read_json(\"datasets/gptneo.json\", lines=True)\n",
    "print(neo.head(1)[\"tweets\"])\n"
   ]
  },
  {
   "cell_type": "code",
   "execution_count": 15,
   "id": "5b855be3-cce9-4c9c-92b7-f237119fa51d",
   "metadata": {
    "tags": []
   },
   "outputs": [
    {
     "data": {
      "text/plain": [
       "10000"
      ]
     },
     "execution_count": 15,
     "metadata": {},
     "output_type": "execute_result"
    }
   ],
   "source": [
    "original = pd.read_json(\"datasets/original.json\", lines=True)\n",
    "original.head(100)\n",
    "len(original[\"timestamp\"])"
   ]
  },
  {
   "cell_type": "code",
   "execution_count": null,
   "id": "2ea05522-8cce-496a-a560-60187539948c",
   "metadata": {},
   "outputs": [],
   "source": [
    "for i in ra"
   ]
  }
 ],
 "metadata": {
  "kernelspec": {
   "display_name": "Python 3 (ipykernel)",
   "language": "python",
   "name": "python3"
  },
  "language_info": {
   "codemirror_mode": {
    "name": "ipython",
    "version": 3
   },
   "file_extension": ".py",
   "mimetype": "text/x-python",
   "name": "python",
   "nbconvert_exporter": "python",
   "pygments_lexer": "ipython3",
   "version": "3.9.7"
  }
 },
 "nbformat": 4,
 "nbformat_minor": 5
}
