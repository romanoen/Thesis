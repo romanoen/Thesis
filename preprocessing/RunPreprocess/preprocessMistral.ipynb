{
 "cells": [
  {
   "cell_type": "code",
   "execution_count": 2,
   "metadata": {},
   "outputs": [
    {
     "data": {
      "text/html": [
       "<div>\n",
       "<style scoped>\n",
       "    .dataframe tbody tr th:only-of-type {\n",
       "        vertical-align: middle;\n",
       "    }\n",
       "\n",
       "    .dataframe tbody tr th {\n",
       "        vertical-align: top;\n",
       "    }\n",
       "\n",
       "    .dataframe thead th {\n",
       "        text-align: right;\n",
       "    }\n",
       "</style>\n",
       "<table border=\"1\" class=\"dataframe\">\n",
       "  <thead>\n",
       "    <tr style=\"text-align: right;\">\n",
       "      <th></th>\n",
       "      <th>Original Tweet</th>\n",
       "      <th>Generated Response</th>\n",
       "    </tr>\n",
       "  </thead>\n",
       "  <tbody>\n",
       "    <tr>\n",
       "      <th>0</th>\n",
       "      <td>I do hope #COP26 from/inGlasgow, is a great on...</td>\n",
       "      <td>\"Excited for #COP26 in Glasgow 🏴󠁧󠁢󠁳󠁣󠁴󠁿! Let's...</td>\n",
       "    </tr>\n",
       "    <tr>\n",
       "      <th>1</th>\n",
       "      <td>#cdnpoli #cdnmedia it would be fantastic if a ...</td>\n",
       "      <td>#cdnpoli #cdnmedia 😍 Imagine a Canadian media...</td>\n",
       "    </tr>\n",
       "    <tr>\n",
       "      <th>2</th>\n",
       "      <td>and we said it is a blessing in disguise think...</td>\n",
       "      <td>\"@ImamNasser_Yamani: #Coronavirus curveball m...</td>\n",
       "    </tr>\n",
       "    <tr>\n",
       "      <th>3</th>\n",
       "      <td>Scum. Yep, definitely scum. Greedy, money-grub...</td>\n",
       "      <td>���sbi: Disgusting, heartless, uncaring Conse...</td>\n",
       "    </tr>\n",
       "    <tr>\n",
       "      <th>4</th>\n",
       "      <td>@RichardDunda @CNBC While world leaders fly pr...</td>\n",
       "      <td>\"@JaneDoe @GretaThunberg #ClimateCrisis: Worl...</td>\n",
       "    </tr>\n",
       "  </tbody>\n",
       "</table>\n",
       "</div>"
      ],
      "text/plain": [
       "                                      Original Tweet  \\\n",
       "0  I do hope #COP26 from/inGlasgow, is a great on...   \n",
       "1  #cdnpoli #cdnmedia it would be fantastic if a ...   \n",
       "2  and we said it is a blessing in disguise think...   \n",
       "3  Scum. Yep, definitely scum. Greedy, money-grub...   \n",
       "4  @RichardDunda @CNBC While world leaders fly pr...   \n",
       "\n",
       "                                  Generated Response  \n",
       "0   \"Excited for #COP26 in Glasgow 🏴󠁧󠁢󠁳󠁣󠁴󠁿! Let's...  \n",
       "1   #cdnpoli #cdnmedia 😍 Imagine a Canadian media...  \n",
       "2   \"@ImamNasser_Yamani: #Coronavirus curveball m...  \n",
       "3   ���sbi: Disgusting, heartless, uncaring Conse...  \n",
       "4   \"@JaneDoe @GretaThunberg #ClimateCrisis: Worl...  "
      ]
     },
     "execution_count": 2,
     "metadata": {},
     "output_type": "execute_result"
    }
   ],
   "source": [
    "import pandas as pd\n",
    "import emoji\n",
    "\n",
    "\n",
    "mistral = pd.read_csv(\"../../datasets/GeneratedDatasets/responsesMistral.csv\")\n",
    "mistral.head()"
   ]
  },
  {
   "cell_type": "code",
   "execution_count": 3,
   "metadata": {},
   "outputs": [],
   "source": [
    "#delete Emoji\n",
    "def delete_emojis(text):\n",
    "    return emoji.demojize(text)\n",
    "\n",
    "\n",
    "mistral[\"Generated Response\"] = mistral[\"Generated Response\"].apply(delete_emojis)\n",
    "mistral[\"Generated Response\"] = mistral[\"Generated Response\"].apply(delete_emojis)\n"
   ]
  },
  {
   "cell_type": "code",
   "execution_count": 4,
   "metadata": {},
   "outputs": [],
   "source": [
    "#remove all the quotes from the columns\n",
    "mistral[\"Generated Response\"] = mistral[\"Generated Response\"].str.replace('\"', \"\").replace(\"'\", \"\")\n",
    "mistral[\"Original Tweet\"] = mistral[\"Original Tweet\"].str.replace('\"', \"\").replace(\"'\", \"\")"
   ]
  },
  {
   "cell_type": "code",
   "execution_count": 5,
   "metadata": {},
   "outputs": [],
   "source": [
    "#remove urls from both columns\n",
    "mistral[\"Generated Response\"] = mistral[\"Generated Response\"].str.replace(r'http\\S+', '', regex=True).replace(r'www\\S+', '', regex=True)\n",
    "mistral[\"Original Tweet\"] = mistral[\"Original Tweet\"].str.replace(r'http\\S+', '', regex=True).replace(r'www\\S+', '', regex=True)"
   ]
  },
  {
   "cell_type": "code",
   "execution_count": 6,
   "metadata": {},
   "outputs": [],
   "source": [
    "#remove every tagging of a user\n",
    "mistral[\"Generated Response\"] = mistral[\"Generated Response\"].str.replace(r'@\\S+', '', regex=True)\n",
    "mistral[\"Original Tweet\"] = mistral[\"Original Tweet\"].str.replace(r'@\\S+', '', regex=True)"
   ]
  },
  {
   "cell_type": "code",
   "execution_count": 7,
   "metadata": {},
   "outputs": [],
   "source": [
    "#remove every newline character\n",
    "mistral[\"Generated Response\"] = mistral[\"Generated Response\"].str.replace(r'\\n', ' ', regex=True)\n",
    "mistral[\"Original Tweet\"] = mistral[\"Original Tweet\"].str.replace(r'\\n', ' ', regex=True)"
   ]
  },
  {
   "cell_type": "code",
   "execution_count": 8,
   "metadata": {},
   "outputs": [],
   "source": [
    "#remove every tab character\n",
    "mistral[\"Generated Response\"] = mistral[\"Generated Response\"].str.replace(r'\\t', ' ', regex=True)\n",
    "mistral[\"Original Tweet\"] = mistral[\"Original Tweet\"].str.replace(r'\\t', ' ', regex=True)"
   ]
  },
  {
   "cell_type": "code",
   "execution_count": 9,
   "metadata": {},
   "outputs": [],
   "source": [
    "#remove every other special character to be sure\n",
    "mistral[\"Generated Response\"] = mistral[\"Generated Response\"].str.replace(r'[^\\w\\s]', '', regex=True)\n",
    "mistral[\"Original Tweet\"] = mistral[\"Original Tweet\"].str.replace(r'[^\\w\\s]', '', regex=True)"
   ]
  },
  {
   "cell_type": "code",
   "execution_count": 10,
   "metadata": {},
   "outputs": [],
   "source": [
    "#remove every number\n",
    "mistral[\"Generated Response\"] = mistral[\"Generated Response\"].str.replace(r'\\d+', '', regex=True)\n",
    "mistral[\"Original Tweet\"] = mistral[\"Original Tweet\"].str.replace(r'\\d+', '', regex=True)"
   ]
  },
  {
   "cell_type": "code",
   "execution_count": 11,
   "metadata": {},
   "outputs": [],
   "source": [
    "#all to lower case\n",
    "mistral[\"Generated Response\"] = mistral[\"Generated Response\"].str.lower()\n",
    "mistral[\"Original Tweet\"] = mistral[\"Original Tweet\"].str.lower()"
   ]
  },
  {
   "cell_type": "code",
   "execution_count": 12,
   "metadata": {},
   "outputs": [
    {
     "name": "stderr",
     "output_type": "stream",
     "text": [
      "[nltk_data] Downloading package stopwords to\n",
      "[nltk_data]     /Users/romanoelfken/nltk_data...\n",
      "[nltk_data]   Package stopwords is already up-to-date!\n"
     ]
    }
   ],
   "source": [
    "#remove stopwords\n",
    "from nltk.corpus import stopwords\n",
    "import nltk\n",
    "nltk.download('stopwords')\n",
    "stop = stopwords.words('english')\n",
    "\n",
    "mistral[\"Generated Response\"] = mistral[\"Generated Response\"].apply(lambda x: ' '.join([word for word in x.split() if word not in (stop)]))\n",
    "mistral[\"Original Tweet\"] = mistral[\"Original Tweet\"].apply(lambda x: ' '.join([word for word in x.split() if word not in (stop)]))"
   ]
  },
  {
   "cell_type": "code",
   "execution_count": 13,
   "metadata": {},
   "outputs": [
    {
     "name": "stderr",
     "output_type": "stream",
     "text": [
      "[nltk_data] Downloading package wordnet to\n",
      "[nltk_data]     /Users/romanoelfken/nltk_data...\n",
      "[nltk_data]   Package wordnet is already up-to-date!\n",
      "[nltk_data] Downloading package averaged_perceptron_tagger to\n",
      "[nltk_data]     /Users/romanoelfken/nltk_data...\n",
      "[nltk_data]   Package averaged_perceptron_tagger is already up-to-\n",
      "[nltk_data]       date!\n"
     ]
    }
   ],
   "source": [
    "#lemmatize everything\n",
    "import nltk\n",
    "from nltk.stem import WordNetLemmatizer\n",
    "from nltk.tokenize import word_tokenize\n",
    "from nltk.corpus import wordnet\n",
    "from nltk.tag import pos_tag\n",
    "\n",
    "# Download necessary ntkl data files\n",
    "nltk.download('wordnet')\n",
    "nltk.download('averaged_perceptron_tagger')\n",
    "\n",
    "lemmatizer = WordNetLemmatizer()\n",
    "\n",
    "def get_wordnet_pos(tag):\n",
    "    if tag.startswith('J'):\n",
    "        return wordnet.ADJ\n",
    "    elif tag.startswith('V'):\n",
    "        return wordnet.VERB\n",
    "    elif tag.startswith('N'):\n",
    "        return wordnet.NOUN\n",
    "    elif tag.startswith('R'):\n",
    "        return wordnet.ADV\n",
    "    else:\n",
    "        return wordnet.NOUN\n",
    "\n",
    "def lemmatize_text(text):\n",
    "    tokens = word_tokenize(text)\n",
    "    tagged_tokens = pos_tag(tokens)\n",
    "    lemmatized_tokens = [lemmatizer.lemmatize(token, get_wordnet_pos(tag)) for token, tag in tagged_tokens]\n",
    "    return ' '.join(lemmatized_tokens)"
   ]
  },
  {
   "cell_type": "code",
   "execution_count": 14,
   "metadata": {},
   "outputs": [],
   "source": [
    "mistral[\"Generated Response\"] = mistral[\"Generated Response\"].apply(lemmatize_text)\n",
    "mistral[\"Original Tweet\"] = mistral[\"Original Tweet\"].apply(lemmatize_text)"
   ]
  },
  {
   "cell_type": "code",
   "execution_count": 15,
   "metadata": {},
   "outputs": [],
   "source": [
    "#set 1 for artificial and 0 for original and concatenate the two columns\n",
    "gr = mistral[\"Generated Response\"].copy()\n",
    "ot = mistral[\"Original Tweet\"].copy()\n",
    "\n",
    "gr_df = pd.DataFrame({'text': gr, 'label': 1})\n",
    "ot_df = pd.DataFrame({'text': ot, 'label': 0})\n",
    "\n",
    "\n",
    "combined_df = pd.concat([gr_df, ot_df], ignore_index=True, sort=False)\n",
    "\n",
    "mistral = combined_df.sample(frac=1).reset_index(drop=True)"
   ]
  },
  {
   "cell_type": "code",
   "execution_count": 16,
   "metadata": {},
   "outputs": [],
   "source": [
    "mistral.to_csv(\"../StorePreprocessed/Mistralcsv.csv\", index=False)"
   ]
  }
 ],
 "metadata": {
  "kernelspec": {
   "display_name": "base",
   "language": "python",
   "name": "python3"
  },
  "language_info": {
   "codemirror_mode": {
    "name": "ipython",
    "version": 3
   },
   "file_extension": ".py",
   "mimetype": "text/x-python",
   "name": "python",
   "nbconvert_exporter": "python",
   "pygments_lexer": "ipython3",
   "version": "3.11.4"
  }
 },
 "nbformat": 4,
 "nbformat_minor": 2
}
