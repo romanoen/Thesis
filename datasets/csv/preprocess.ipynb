{
 "cells": [
  {
   "cell_type": "code",
   "execution_count": null,
   "id": "8e5e7d1c-9dfd-4ef5-92dc-a818cd7bb491",
   "metadata": {},
   "outputs": [],
   "source": [
    "import pandas as pd"
   ]
  },
  {
   "cell_type": "code",
   "execution_count": 2,
   "id": "9eb92dd4-ad41-4baa-bf8b-4aca83683108",
   "metadata": {
    "tags": []
   },
   "outputs": [],
   "source": [
    "import pandas as pd\n",
    "\n",
    "df = pd.read_csv(\"responsesLlama.csv\")\n",
    "\n",
    "def remove_text_before_colon(text):\n",
    "    if ':' in text:\n",
    "        return text.split(':', 1)[1].strip()\n",
    "    return text\n",
    "\n",
    "df['Prompt'] = df['Prompt'].apply(remove_text_before_colon)\n",
    "\n",
    "df.to_csv(\"responsesLlama(1).csv\", index=False)\n"
   ]
  },
  {
   "cell_type": "code",
   "execution_count": null,
   "id": "11120271-a1a4-4ac0-98cd-c12b01012a52",
   "metadata": {},
   "outputs": [],
   "source": []
  }
 ],
 "metadata": {
  "kernelspec": {
   "display_name": "Python 3 (ipykernel)",
   "language": "python",
   "name": "python3"
  },
  "language_info": {
   "codemirror_mode": {
    "name": "ipython",
    "version": 3
   },
   "file_extension": ".py",
   "mimetype": "text/x-python",
   "name": "python",
   "nbconvert_exporter": "python",
   "pygments_lexer": "ipython3",
   "version": "3.9.7"
  }
 },
 "nbformat": 4,
 "nbformat_minor": 5
}
